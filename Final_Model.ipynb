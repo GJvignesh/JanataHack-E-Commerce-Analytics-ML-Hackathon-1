{
 "cells": [
  {
   "cell_type": "code",
   "execution_count": 1,
   "metadata": {},
   "outputs": [
    {
     "name": "stderr",
     "output_type": "stream",
     "text": [
      "C:\\Users\\shankar\\Anaconda3\\envs\\tf\\lib\\site-packages\\statsmodels\\tools\\_testing.py:19: FutureWarning: pandas.util.testing is deprecated. Use the functions in the public API at pandas.testing instead.\n",
      "  import pandas.util.testing as tm\n"
     ]
    }
   ],
   "source": [
    "import pandas as pd\n",
    "import numpy as np\n",
    "import matplotlib.pyplot as plt\n",
    "import seaborn as sns\n",
    "from fastai.tabular import *\n",
    "pd.set_option('display.max_columns', None)"
   ]
  },
  {
   "cell_type": "code",
   "execution_count": 2,
   "metadata": {},
   "outputs": [],
   "source": [
    "# Imports for better visualization\n",
    "from matplotlib import rcParams\n",
    "#colorbrewer2 Dark2 qualitative color table\n",
    "dark2_colors = [(0.10588235294117647, 0.6196078431372549, 0.4666666666666667),\n",
    "                (0.8509803921568627, 0.37254901960784315, 0.00784313725490196),\n",
    "                (0.4588235294117647, 0.4392156862745098, 0.7019607843137254),\n",
    "                (0.9058823529411765, 0.1607843137254902, 0.5411764705882353),\n",
    "                (0.4, 0.6509803921568628, 0.11764705882352941),\n",
    "                (0.9019607843137255, 0.6705882352941176, 0.00784313725490196),\n",
    "                (0.6509803921568628, 0.4627450980392157, 0.11372549019607843)]\n",
    "\n",
    "rcParams['figure.figsize'] = (10, 4)\n",
    "rcParams['figure.dpi'] = 150\n",
    "#rcParams['axes.color_cycle'] = dark2_colors\n",
    "rcParams['lines.linewidth'] = 2\n",
    "rcParams['font.size'] = 8\n",
    "rcParams['patch.edgecolor'] = 'white'\n",
    "rcParams['patch.facecolor'] = dark2_colors[0]\n",
    "rcParams['font.family'] = 'StixGeneral'\n",
    "rcParams['axes.grid'] = True\n",
    "rcParams['axes.facecolor'] = '#eeeeee'"
   ]
  },
  {
   "cell_type": "code",
   "execution_count": 3,
   "metadata": {},
   "outputs": [
    {
     "data": {
      "text/plain": [
       "((10500, 5), (4500, 4), (4500, 2))"
      ]
     },
     "execution_count": 3,
     "metadata": {},
     "output_type": "execute_result"
    }
   ],
   "source": [
    "train = pd.read_csv('train_8wry4cB.csv')\n",
    "test = pd.read_csv('test_Yix80N0.csv')\n",
    "sample = pd.read_csv('sample_submission_opxHi4g.csv')\n",
    "train.shape, test.shape, sample.shape"
   ]
  },
  {
   "cell_type": "code",
   "execution_count": 4,
   "metadata": {},
   "outputs": [],
   "source": [
    "data = pd.concat([train, test]).reset_index(drop=True)\n",
    "\n",
    "data['total_products'] = data['ProductList'].apply(lambda x: len(x.split(';')))\n",
    "data['startTime'] = pd.to_datetime(data['startTime'], format='%d/%m/%y %H:%M')\n",
    "data['endTime'] = pd.to_datetime(data['endTime'], format='%d/%m/%y %H:%M')\n",
    "data['duration'] = (data['endTime']-data['startTime']).dt.total_seconds()/60\n",
    "data['product_per_time'] = data['total_products']/(data['duration']+1)"
   ]
  },
  {
   "cell_type": "code",
   "execution_count": 5,
   "metadata": {},
   "outputs": [
    {
     "data": {
      "text/plain": [
       "count    15000.000000\n",
       "mean       130.356600\n",
       "std       1880.782561\n",
       "min          0.000000\n",
       "25%          0.000000\n",
       "50%          0.000000\n",
       "75%          2.000000\n",
       "max      50752.000000\n",
       "Name: duration, dtype: float64"
      ]
     },
     "execution_count": 5,
     "metadata": {},
     "output_type": "execute_result"
    }
   ],
   "source": [
    "data['duration'].describe()"
   ]
  },
  {
   "cell_type": "code",
   "execution_count": 6,
   "metadata": {},
   "outputs": [
    {
     "data": {
      "text/plain": [
       "1    7931\n",
       "0    7069\n",
       "Name: session, dtype: int64"
      ]
     },
     "execution_count": 6,
     "metadata": {},
     "output_type": "execute_result"
    }
   ],
   "source": [
    "def session(x):\n",
    "    if x == 0:\n",
    "        return 1\n",
    "    else:\n",
    "        return 0\n",
    "    \n",
    "data['session'] = data['duration'].apply(session)\n",
    "data['session'].value_counts()"
   ]
  },
  {
   "cell_type": "code",
   "execution_count": 7,
   "metadata": {},
   "outputs": [],
   "source": [
    "def time_features(df):\n",
    "    df['st_date'] = df['startTime'].dt.date\n",
    "    \n",
    "    df['st_month'] = df['startTime'].dt.month\n",
    "    df['st_month_start'] = df['startTime'].dt.is_month_start.astype(int)\n",
    "    df['st_month_end'] = df['startTime'].dt.is_month_end.astype(int)\n",
    "    \n",
    "    df['st_day'] = df['startTime'].dt.day\n",
    "    \n",
    "    df['st_doy'] = df['startTime'].dt.dayofyear\n",
    "    \n",
    "    df['st_week'] = df['startTime'].dt.week\n",
    "    \n",
    "    df['st_dow'] = df['startTime'].dt.dayofweek\n",
    "    \n",
    "    df['st_hour'] = df['startTime'].dt.hour\n",
    "    df['st_minute'] = df['startTime'].dt.minute\n",
    "    df['et_hour'] = df['endTime'].dt.hour\n",
    "    df['et_minute'] = df['endTime'].dt.minute\n",
    "    \n",
    "    return df"
   ]
  },
  {
   "cell_type": "code",
   "execution_count": 8,
   "metadata": {},
   "outputs": [
    {
     "data": {
      "text/plain": [
       "(15000, 21)"
      ]
     },
     "execution_count": 8,
     "metadata": {},
     "output_type": "execute_result"
    }
   ],
   "source": [
    "data = time_features(data)\n",
    "data.shape"
   ]
  },
  {
   "cell_type": "code",
   "execution_count": 9,
   "metadata": {},
   "outputs": [],
   "source": [
    "data['tot_prod_day'] = data.groupby(['st_day'])['total_products'].transform('sum')\n",
    "data['tot_prod_week'] = data.groupby(['st_week'])['total_products'].transform('sum')\n",
    "data['tot_prod_dow'] = data.groupby(['st_dow'])['total_products'].transform('sum')\n",
    "data['tot_prod_hour'] = data.groupby(['st_hour'])['total_products'].transform('sum')"
   ]
  },
  {
   "cell_type": "code",
   "execution_count": 10,
   "metadata": {},
   "outputs": [
    {
     "data": {
      "text/plain": [
       "(15000, 25)"
      ]
     },
     "execution_count": 10,
     "metadata": {},
     "output_type": "execute_result"
    }
   ],
   "source": [
    "data.shape"
   ]
  },
  {
   "cell_type": "code",
   "execution_count": 11,
   "metadata": {},
   "outputs": [],
   "source": [
    "def product_list_1(x):\n",
    "    if ';' in x:\n",
    "        plist = x.split(';')\n",
    "        first_a = plist[0].split('/')[0]\n",
    "        first_b = plist[0].split('/')[1]\n",
    "        first_c = plist[0].split('/')[2]\n",
    "\n",
    "    else:\n",
    "        plist = x.split('/')\n",
    "        first_a = plist[0]\n",
    "        first_b = plist[1]\n",
    "        first_c = plist[2]\n",
    "    return (first_a, first_b, first_c)"
   ]
  },
  {
   "cell_type": "code",
   "execution_count": 12,
   "metadata": {},
   "outputs": [
    {
     "data": {
      "text/html": [
       "<div>\n",
       "<style scoped>\n",
       "    .dataframe tbody tr th:only-of-type {\n",
       "        vertical-align: middle;\n",
       "    }\n",
       "\n",
       "    .dataframe tbody tr th {\n",
       "        vertical-align: top;\n",
       "    }\n",
       "\n",
       "    .dataframe thead th {\n",
       "        text-align: right;\n",
       "    }\n",
       "</style>\n",
       "<table border=\"1\" class=\"dataframe\">\n",
       "  <thead>\n",
       "    <tr style=\"text-align: right;\">\n",
       "      <th></th>\n",
       "      <th>First_A</th>\n",
       "      <th>First_B</th>\n",
       "      <th>First_C</th>\n",
       "    </tr>\n",
       "  </thead>\n",
       "  <tbody>\n",
       "    <tr>\n",
       "      <th>0</th>\n",
       "      <td>A00002</td>\n",
       "      <td>B00003</td>\n",
       "      <td>C00006</td>\n",
       "    </tr>\n",
       "    <tr>\n",
       "      <th>1</th>\n",
       "      <td>A00001</td>\n",
       "      <td>B00009</td>\n",
       "      <td>other</td>\n",
       "    </tr>\n",
       "    <tr>\n",
       "      <th>2</th>\n",
       "      <td>A00002</td>\n",
       "      <td>B00001</td>\n",
       "      <td>C00020</td>\n",
       "    </tr>\n",
       "    <tr>\n",
       "      <th>3</th>\n",
       "      <td>A00002</td>\n",
       "      <td>B00004</td>\n",
       "      <td>C00018</td>\n",
       "    </tr>\n",
       "    <tr>\n",
       "      <th>4</th>\n",
       "      <td>A00001</td>\n",
       "      <td>B00001</td>\n",
       "      <td>C00012</td>\n",
       "    </tr>\n",
       "  </tbody>\n",
       "</table>\n",
       "</div>"
      ],
      "text/plain": [
       "  First_A First_B First_C\n",
       "0  A00002  B00003  C00006\n",
       "1  A00001  B00009   other\n",
       "2  A00002  B00001  C00020\n",
       "3  A00002  B00004  C00018\n",
       "4  A00001  B00001  C00012"
      ]
     },
     "execution_count": 12,
     "metadata": {},
     "output_type": "execute_result"
    }
   ],
   "source": [
    "pl1 = data['ProductList'].apply(lambda x: product_list_1(x))\n",
    "df1 = pd.DataFrame(pl1.to_list(), columns = ['First_A', 'First_B', 'First_C'])\n",
    "df1 = df1.apply(lambda x: x.mask(x.map(x.value_counts())<60, 'other'))\n",
    "df1.head()"
   ]
  },
  {
   "cell_type": "code",
   "execution_count": 13,
   "metadata": {},
   "outputs": [],
   "source": [
    "from collections import Counter\n",
    "def product_list_2(x):\n",
    "    if ';' in x:\n",
    "        plist = x.split(';')\n",
    "        level_1 = []\n",
    "        level_2 = []\n",
    "        level_3 = []\n",
    "        for i in plist:\n",
    "            level_1.append(i.split('/')[0])\n",
    "            level_2.append(i.split('/')[1])\n",
    "            level_3.append(i.split('/')[2])\n",
    "        \n",
    "        uniq_l1 = len(set(level_1))\n",
    "        uniq_l2 = len(set(level_2))\n",
    "        uniq_l3 = len(set(level_3))\n",
    "        \n",
    "        freq_l1 = max(level_1, key=Counter(level_1).get)\n",
    "        freq_l2 = max(level_2, key=Counter(level_2).get)\n",
    "        freq_l3 = max(level_3, key=Counter(level_3).get)\n",
    "    else:\n",
    "        plist = x.split('/')\n",
    "        \n",
    "        level_1 = plist[0]\n",
    "        level_2 = plist[1]\n",
    "        level_3 = plist[2]\n",
    "        uniq_l1 = 1\n",
    "        uniq_l2 = 1\n",
    "        uniq_l3 = 1\n",
    "        \n",
    "        freq_l1 = level_1\n",
    "        freq_l2 = level_2\n",
    "        freq_l3 = level_3\n",
    "        \n",
    "    return (uniq_l1, uniq_l2, uniq_l3, freq_l1, freq_l2, freq_l3)"
   ]
  },
  {
   "cell_type": "code",
   "execution_count": 14,
   "metadata": {},
   "outputs": [
    {
     "data": {
      "text/html": [
       "<div>\n",
       "<style scoped>\n",
       "    .dataframe tbody tr th:only-of-type {\n",
       "        vertical-align: middle;\n",
       "    }\n",
       "\n",
       "    .dataframe tbody tr th {\n",
       "        vertical-align: top;\n",
       "    }\n",
       "\n",
       "    .dataframe thead th {\n",
       "        text-align: right;\n",
       "    }\n",
       "</style>\n",
       "<table border=\"1\" class=\"dataframe\">\n",
       "  <thead>\n",
       "    <tr style=\"text-align: right;\">\n",
       "      <th></th>\n",
       "      <th>level1</th>\n",
       "      <th>level2</th>\n",
       "      <th>level3</th>\n",
       "      <th>freq_l1</th>\n",
       "      <th>freq_l2</th>\n",
       "      <th>freq_l3</th>\n",
       "    </tr>\n",
       "  </thead>\n",
       "  <tbody>\n",
       "    <tr>\n",
       "      <th>0</th>\n",
       "      <td>1</td>\n",
       "      <td>1</td>\n",
       "      <td>1</td>\n",
       "      <td>A00002</td>\n",
       "      <td>B00003</td>\n",
       "      <td>C00006</td>\n",
       "    </tr>\n",
       "    <tr>\n",
       "      <th>1</th>\n",
       "      <td>1</td>\n",
       "      <td>1</td>\n",
       "      <td>1</td>\n",
       "      <td>A00001</td>\n",
       "      <td>B00009</td>\n",
       "      <td>C00031</td>\n",
       "    </tr>\n",
       "    <tr>\n",
       "      <th>2</th>\n",
       "      <td>1</td>\n",
       "      <td>1</td>\n",
       "      <td>1</td>\n",
       "      <td>A00002</td>\n",
       "      <td>B00001</td>\n",
       "      <td>C00020</td>\n",
       "    </tr>\n",
       "    <tr>\n",
       "      <th>3</th>\n",
       "      <td>1</td>\n",
       "      <td>1</td>\n",
       "      <td>1</td>\n",
       "      <td>A00002</td>\n",
       "      <td>B00004</td>\n",
       "      <td>C00018</td>\n",
       "    </tr>\n",
       "    <tr>\n",
       "      <th>4</th>\n",
       "      <td>1</td>\n",
       "      <td>1</td>\n",
       "      <td>1</td>\n",
       "      <td>A00001</td>\n",
       "      <td>B00001</td>\n",
       "      <td>C00012</td>\n",
       "    </tr>\n",
       "  </tbody>\n",
       "</table>\n",
       "</div>"
      ],
      "text/plain": [
       "   level1  level2  level3 freq_l1 freq_l2 freq_l3\n",
       "0       1       1       1  A00002  B00003  C00006\n",
       "1       1       1       1  A00001  B00009  C00031\n",
       "2       1       1       1  A00002  B00001  C00020\n",
       "3       1       1       1  A00002  B00004  C00018\n",
       "4       1       1       1  A00001  B00001  C00012"
      ]
     },
     "execution_count": 14,
     "metadata": {},
     "output_type": "execute_result"
    }
   ],
   "source": [
    "level = data['ProductList'].apply(lambda x: product_list_2(x))\n",
    "df2 = pd.DataFrame(level.to_list(), columns=['level1', 'level2', 'level3', 'freq_l1', 'freq_l2', 'freq_l3'])\n",
    "df2 = df2.apply(lambda x: x.mask(x.map(x.value_counts())<30, 'other') if x.name not in ['level1', 'level2', 'level3'] else x)\n",
    "df2.head()"
   ]
  },
  {
   "cell_type": "code",
   "execution_count": 15,
   "metadata": {},
   "outputs": [],
   "source": [
    "data['plist1'] = data['ProductList'].apply(lambda x: (''.join(x.split(';'))).split('/')[:-1])\n",
    "plist = data['plist1']\n",
    "from collections import Counter\n",
    "len(Counter(([a for b in plist.tolist() for a in b])))\n",
    "plist_counter = Counter(([a for b in plist.tolist() for a in b]))\n",
    "\n",
    "a = []\n",
    "b = []\n",
    "c = []\n",
    "d = []\n",
    "for i in plist_counter.keys():\n",
    "    if i.startswith(\"A\"):\n",
    "        a.append(i)\n",
    "    elif i.startswith(\"B\"):\n",
    "        b.append(i)\n",
    "    elif i.startswith(\"C\"):\n",
    "        c.append(i)\n",
    "    else:\n",
    "        d.append(i)"
   ]
  },
  {
   "cell_type": "code",
   "execution_count": 16,
   "metadata": {},
   "outputs": [
    {
     "data": {
      "text/plain": [
       "(11, 86, 383, 21880)"
      ]
     },
     "execution_count": 16,
     "metadata": {},
     "output_type": "execute_result"
    }
   ],
   "source": [
    "len(a), len(b), len(c), len(d)"
   ]
  },
  {
   "cell_type": "code",
   "execution_count": 17,
   "metadata": {},
   "outputs": [],
   "source": [
    "data['plist1'] = data['plist1'].apply(lambda x: Counter(x))"
   ]
  },
  {
   "cell_type": "code",
   "execution_count": 18,
   "metadata": {},
   "outputs": [
    {
     "data": {
      "text/html": [
       "<div>\n",
       "<style scoped>\n",
       "    .dataframe tbody tr th:only-of-type {\n",
       "        vertical-align: middle;\n",
       "    }\n",
       "\n",
       "    .dataframe tbody tr th {\n",
       "        vertical-align: top;\n",
       "    }\n",
       "\n",
       "    .dataframe thead th {\n",
       "        text-align: right;\n",
       "    }\n",
       "</style>\n",
       "<table border=\"1\" class=\"dataframe\">\n",
       "  <thead>\n",
       "    <tr style=\"text-align: right;\">\n",
       "      <th></th>\n",
       "      <th>session_id</th>\n",
       "      <th>startTime</th>\n",
       "      <th>endTime</th>\n",
       "      <th>ProductList</th>\n",
       "      <th>gender</th>\n",
       "      <th>total_products</th>\n",
       "      <th>duration</th>\n",
       "      <th>product_per_time</th>\n",
       "      <th>session</th>\n",
       "      <th>st_date</th>\n",
       "      <th>st_month</th>\n",
       "      <th>st_month_start</th>\n",
       "      <th>st_month_end</th>\n",
       "      <th>st_day</th>\n",
       "      <th>st_doy</th>\n",
       "      <th>st_week</th>\n",
       "      <th>st_dow</th>\n",
       "      <th>st_hour</th>\n",
       "      <th>st_minute</th>\n",
       "      <th>et_hour</th>\n",
       "      <th>et_minute</th>\n",
       "      <th>tot_prod_day</th>\n",
       "      <th>tot_prod_week</th>\n",
       "      <th>tot_prod_dow</th>\n",
       "      <th>tot_prod_hour</th>\n",
       "      <th>plist1</th>\n",
       "      <th>First_A</th>\n",
       "      <th>First_B</th>\n",
       "      <th>First_C</th>\n",
       "      <th>level1</th>\n",
       "      <th>level2</th>\n",
       "      <th>level3</th>\n",
       "      <th>freq_l1</th>\n",
       "      <th>freq_l2</th>\n",
       "      <th>freq_l3</th>\n",
       "    </tr>\n",
       "  </thead>\n",
       "  <tbody>\n",
       "    <tr>\n",
       "      <th>0</th>\n",
       "      <td>u16159</td>\n",
       "      <td>2014-12-15 18:11:00</td>\n",
       "      <td>2014-12-15 18:12:00</td>\n",
       "      <td>A00002/B00003/C00006/D28435/;A00002/B00003/C00...</td>\n",
       "      <td>female</td>\n",
       "      <td>4</td>\n",
       "      <td>1.0</td>\n",
       "      <td>2.0</td>\n",
       "      <td>0</td>\n",
       "      <td>2014-12-15</td>\n",
       "      <td>12</td>\n",
       "      <td>0</td>\n",
       "      <td>0</td>\n",
       "      <td>15</td>\n",
       "      <td>349</td>\n",
       "      <td>51</td>\n",
       "      <td>0</td>\n",
       "      <td>18</td>\n",
       "      <td>11</td>\n",
       "      <td>18</td>\n",
       "      <td>12</td>\n",
       "      <td>2347</td>\n",
       "      <td>8154</td>\n",
       "      <td>6330</td>\n",
       "      <td>1205</td>\n",
       "      <td>{'A00002': 4, 'B00003': 4, 'C00006': 4, 'D2843...</td>\n",
       "      <td>A00002</td>\n",
       "      <td>B00003</td>\n",
       "      <td>C00006</td>\n",
       "      <td>1</td>\n",
       "      <td>1</td>\n",
       "      <td>1</td>\n",
       "      <td>A00002</td>\n",
       "      <td>B00003</td>\n",
       "      <td>C00006</td>\n",
       "    </tr>\n",
       "    <tr>\n",
       "      <th>1</th>\n",
       "      <td>u10253</td>\n",
       "      <td>2014-12-16 14:35:00</td>\n",
       "      <td>2014-12-16 14:41:00</td>\n",
       "      <td>A00001/B00009/C00031/D29404/;A00001/B00009/C00...</td>\n",
       "      <td>male</td>\n",
       "      <td>7</td>\n",
       "      <td>6.0</td>\n",
       "      <td>1.0</td>\n",
       "      <td>0</td>\n",
       "      <td>2014-12-16</td>\n",
       "      <td>12</td>\n",
       "      <td>0</td>\n",
       "      <td>0</td>\n",
       "      <td>16</td>\n",
       "      <td>350</td>\n",
       "      <td>51</td>\n",
       "      <td>1</td>\n",
       "      <td>14</td>\n",
       "      <td>35</td>\n",
       "      <td>14</td>\n",
       "      <td>41</td>\n",
       "      <td>2232</td>\n",
       "      <td>8154</td>\n",
       "      <td>5038</td>\n",
       "      <td>2628</td>\n",
       "      <td>{'A00001': 7, 'B00009': 7, 'C00031': 7, 'D2940...</td>\n",
       "      <td>A00001</td>\n",
       "      <td>B00009</td>\n",
       "      <td>other</td>\n",
       "      <td>1</td>\n",
       "      <td>1</td>\n",
       "      <td>1</td>\n",
       "      <td>A00001</td>\n",
       "      <td>B00009</td>\n",
       "      <td>C00031</td>\n",
       "    </tr>\n",
       "    <tr>\n",
       "      <th>2</th>\n",
       "      <td>u19037</td>\n",
       "      <td>2014-12-01 15:58:00</td>\n",
       "      <td>2014-12-01 15:58:00</td>\n",
       "      <td>A00002/B00001/C00020/D16944/</td>\n",
       "      <td>female</td>\n",
       "      <td>1</td>\n",
       "      <td>0.0</td>\n",
       "      <td>1.0</td>\n",
       "      <td>1</td>\n",
       "      <td>2014-12-01</td>\n",
       "      <td>12</td>\n",
       "      <td>1</td>\n",
       "      <td>0</td>\n",
       "      <td>1</td>\n",
       "      <td>335</td>\n",
       "      <td>49</td>\n",
       "      <td>0</td>\n",
       "      <td>15</td>\n",
       "      <td>58</td>\n",
       "      <td>15</td>\n",
       "      <td>58</td>\n",
       "      <td>1202</td>\n",
       "      <td>5207</td>\n",
       "      <td>6330</td>\n",
       "      <td>2461</td>\n",
       "      <td>{'A00002': 1, 'B00001': 1, 'C00020': 1, 'D1694...</td>\n",
       "      <td>A00002</td>\n",
       "      <td>B00001</td>\n",
       "      <td>C00020</td>\n",
       "      <td>1</td>\n",
       "      <td>1</td>\n",
       "      <td>1</td>\n",
       "      <td>A00002</td>\n",
       "      <td>B00001</td>\n",
       "      <td>C00020</td>\n",
       "    </tr>\n",
       "  </tbody>\n",
       "</table>\n",
       "</div>"
      ],
      "text/plain": [
       "  session_id           startTime             endTime  \\\n",
       "0     u16159 2014-12-15 18:11:00 2014-12-15 18:12:00   \n",
       "1     u10253 2014-12-16 14:35:00 2014-12-16 14:41:00   \n",
       "2     u19037 2014-12-01 15:58:00 2014-12-01 15:58:00   \n",
       "\n",
       "                                         ProductList  gender  total_products  \\\n",
       "0  A00002/B00003/C00006/D28435/;A00002/B00003/C00...  female               4   \n",
       "1  A00001/B00009/C00031/D29404/;A00001/B00009/C00...    male               7   \n",
       "2                       A00002/B00001/C00020/D16944/  female               1   \n",
       "\n",
       "   duration  product_per_time  session     st_date  st_month  st_month_start  \\\n",
       "0       1.0               2.0        0  2014-12-15        12               0   \n",
       "1       6.0               1.0        0  2014-12-16        12               0   \n",
       "2       0.0               1.0        1  2014-12-01        12               1   \n",
       "\n",
       "   st_month_end  st_day  st_doy  st_week  st_dow  st_hour  st_minute  et_hour  \\\n",
       "0             0      15     349       51       0       18         11       18   \n",
       "1             0      16     350       51       1       14         35       14   \n",
       "2             0       1     335       49       0       15         58       15   \n",
       "\n",
       "   et_minute  tot_prod_day  tot_prod_week  tot_prod_dow  tot_prod_hour  \\\n",
       "0         12          2347           8154          6330           1205   \n",
       "1         41          2232           8154          5038           2628   \n",
       "2         58          1202           5207          6330           2461   \n",
       "\n",
       "                                              plist1 First_A First_B First_C  \\\n",
       "0  {'A00002': 4, 'B00003': 4, 'C00006': 4, 'D2843...  A00002  B00003  C00006   \n",
       "1  {'A00001': 7, 'B00009': 7, 'C00031': 7, 'D2940...  A00001  B00009   other   \n",
       "2  {'A00002': 1, 'B00001': 1, 'C00020': 1, 'D1694...  A00002  B00001  C00020   \n",
       "\n",
       "   level1  level2  level3 freq_l1 freq_l2 freq_l3  \n",
       "0       1       1       1  A00002  B00003  C00006  \n",
       "1       1       1       1  A00001  B00009  C00031  \n",
       "2       1       1       1  A00002  B00001  C00020  "
      ]
     },
     "execution_count": 18,
     "metadata": {},
     "output_type": "execute_result"
    }
   ],
   "source": [
    "temp = data.copy()\n",
    "\n",
    "data = pd.concat([data, df1, df2], axis=1).reset_index(drop=True)\n",
    "data.head(3)"
   ]
  },
  {
   "cell_type": "code",
   "execution_count": 19,
   "metadata": {},
   "outputs": [],
   "source": [
    "A = []\n",
    "for i in a:\n",
    "    x = data['ProductList'].str.contains(i).value_counts().values[1]\n",
    "    if x>30:\n",
    "        A.append(i)\n",
    "len(A)\n",
    "\n",
    "B = []\n",
    "for i in b:\n",
    "    x = data['ProductList'].str.contains(i).value_counts().values[1]\n",
    "    if x>30:\n",
    "        B.append(i)\n",
    "        \n",
    "len(B)\n",
    "\n",
    "\n",
    "C = []\n",
    "for i in c:\n",
    "    x = data['ProductList'].str.contains(i).value_counts().values[1]\n",
    "    if x>30:\n",
    "        C.append(i)\n",
    "len(C)\n",
    "\n",
    "\n",
    "D = []\n",
    "for i in d:\n",
    "    x = data['ProductList'].str.contains(i).value_counts().values[1]\n",
    "    if x>30:\n",
    "        D.append(i)\n",
    "        \n",
    "        \n",
    "D = ['D00205', 'D00266', 'D08940', 'D20430', 'D01034', 'D00232', 'D00297', 'D08480']\n"
   ]
  },
  {
   "cell_type": "code",
   "execution_count": 20,
   "metadata": {},
   "outputs": [
    {
     "data": {
      "text/plain": [
       "(15000, 185)"
      ]
     },
     "execution_count": 20,
     "metadata": {},
     "output_type": "execute_result"
    }
   ],
   "source": [
    "for i in A:\n",
    "    data[i] = data['plist1'].apply(lambda x: x[i] if (i in x) else 0)\n",
    "\n",
    "for i in B:\n",
    "    data[i] = data['plist1'].apply(lambda x: x[i] if (i in x) else 0)\n",
    "\n",
    "for i in C:\n",
    "    data[i] = data['plist1'].apply(lambda x: x[i] if (i in x) else 0)\n",
    "for i in D:\n",
    "    data[i] = data['plist1'].apply(lambda x: x[i] if (i in x) else 0)\n",
    "    \n",
    "data.shape"
   ]
  },
  {
   "cell_type": "code",
   "execution_count": null,
   "metadata": {},
   "outputs": [],
   "source": []
  },
  {
   "cell_type": "code",
   "execution_count": 21,
   "metadata": {},
   "outputs": [],
   "source": [
    "import os\n",
    "# os.mkdir(\"Final\")\n",
    "path = 'Final/'"
   ]
  },
  {
   "cell_type": "code",
   "execution_count": 23,
   "metadata": {},
   "outputs": [],
   "source": [
    "from sklearn.preprocessing import LabelEncoder\n",
    "le = LabelEncoder()\n",
    "data['session_id'] = le.fit_transform(data['session_id'])"
   ]
  },
  {
   "cell_type": "code",
   "execution_count": null,
   "metadata": {},
   "outputs": [],
   "source": []
  },
  {
   "cell_type": "code",
   "execution_count": 24,
   "metadata": {},
   "outputs": [
    {
     "data": {
      "text/plain": [
       "((10500, 179), (4500, 179))"
      ]
     },
     "execution_count": 24,
     "metadata": {},
     "output_type": "execute_result"
    }
   ],
   "source": [
    "final_train = data[:train.shape[0]]\n",
    "final_test = data[train.shape[0]:]\n",
    "drop_cols = ['startTime', 'endTime', 'ProductList', 'gender', 'st_date', 'plist1']\n",
    "\n",
    "X = final_train.drop(drop_cols, axis=1)\n",
    "y = final_train['gender'].replace(['female', 'male'], [0, 1])\n",
    "test_X = final_test.drop(drop_cols, axis=1).reset_index(drop=True)\n",
    "X.shape, test_X.shape"
   ]
  },
  {
   "cell_type": "code",
   "execution_count": 25,
   "metadata": {},
   "outputs": [
    {
     "data": {
      "text/plain": [
       "((10500, 387), (4500, 387))"
      ]
     },
     "execution_count": 25,
     "metadata": {},
     "output_type": "execute_result"
    }
   ],
   "source": [
    "X = pd.get_dummies(X)\n",
    "test_X = pd.get_dummies(test_X)\n",
    "X.shape, test_X.shape"
   ]
  },
  {
   "cell_type": "code",
   "execution_count": 26,
   "metadata": {},
   "outputs": [],
   "source": [
    "from sklearn.metrics import f1_score, roc_auc_score, accuracy_score"
   ]
  },
  {
   "cell_type": "code",
   "execution_count": null,
   "metadata": {},
   "outputs": [],
   "source": []
  },
  {
   "cell_type": "code",
   "execution_count": 81,
   "metadata": {},
   "outputs": [
    {
     "name": "stdout",
     "output_type": "stream",
     "text": [
      "[0]\tvalidation_0-auc:0.782935\tvalidation_1-auc:0.780323\n",
      "Multiple eval metrics have been passed: 'validation_1-auc' will be used for early stopping.\n",
      "\n",
      "Will train until validation_1-auc hasn't improved in 200 rounds.\n",
      "[200]\tvalidation_0-auc:0.921665\tvalidation_1-auc:0.883618\n",
      "[400]\tvalidation_0-auc:0.946555\tvalidation_1-auc:0.896342\n",
      "[600]\tvalidation_0-auc:0.962226\tvalidation_1-auc:0.905578\n",
      "[800]\tvalidation_0-auc:0.974212\tvalidation_1-auc:0.91751\n",
      "[999]\tvalidation_0-auc:0.981472\tvalidation_1-auc:0.922071\n",
      "Fold: 1\n",
      "Accuracy: 0.9061904761904762\n",
      "F1 Score: 0.9018255927259529\n",
      "AUC Score: 0.9221237640355289\n",
      "\n",
      "\n",
      "[0]\tvalidation_0-auc:0.7818\tvalidation_1-auc:0.775122\n",
      "Multiple eval metrics have been passed: 'validation_1-auc' will be used for early stopping.\n",
      "\n",
      "Will train until validation_1-auc hasn't improved in 200 rounds.\n",
      "[200]\tvalidation_0-auc:0.927565\tvalidation_1-auc:0.898666\n",
      "[400]\tvalidation_0-auc:0.950426\tvalidation_1-auc:0.909054\n",
      "[600]\tvalidation_0-auc:0.963316\tvalidation_1-auc:0.916993\n",
      "[800]\tvalidation_0-auc:0.973974\tvalidation_1-auc:0.920449\n",
      "[999]\tvalidation_0-auc:0.981446\tvalidation_1-auc:0.923301\n",
      "Fold: 2\n",
      "Accuracy: 0.9042857142857142\n",
      "F1 Score: 0.9000916315442126\n",
      "AUC Score: 0.9235474006116207\n",
      "\n",
      "\n",
      "[0]\tvalidation_0-auc:0.780679\tvalidation_1-auc:0.779938\n",
      "Multiple eval metrics have been passed: 'validation_1-auc' will be used for early stopping.\n",
      "\n",
      "Will train until validation_1-auc hasn't improved in 200 rounds.\n",
      "[200]\tvalidation_0-auc:0.927637\tvalidation_1-auc:0.872966\n",
      "[400]\tvalidation_0-auc:0.951711\tvalidation_1-auc:0.891695\n",
      "[600]\tvalidation_0-auc:0.965049\tvalidation_1-auc:0.900511\n",
      "[800]\tvalidation_0-auc:0.973344\tvalidation_1-auc:0.903158\n",
      "[999]\tvalidation_0-auc:0.979724\tvalidation_1-auc:0.905573\n",
      "Fold: 3\n",
      "Accuracy: 0.8995238095238095\n",
      "F1 Score: 0.8964306810088312\n",
      "AUC Score: 0.9057632641976986\n",
      "\n",
      "\n",
      "[0]\tvalidation_0-auc:0.784364\tvalidation_1-auc:0.789196\n",
      "Multiple eval metrics have been passed: 'validation_1-auc' will be used for early stopping.\n",
      "\n",
      "Will train until validation_1-auc hasn't improved in 200 rounds.\n",
      "[200]\tvalidation_0-auc:0.927186\tvalidation_1-auc:0.885919\n",
      "[400]\tvalidation_0-auc:0.949297\tvalidation_1-auc:0.894786\n",
      "[600]\tvalidation_0-auc:0.961475\tvalidation_1-auc:0.901922\n",
      "[800]\tvalidation_0-auc:0.972769\tvalidation_1-auc:0.910508\n",
      "[999]\tvalidation_0-auc:0.97918\tvalidation_1-auc:0.9151\n",
      "Fold: 4\n",
      "Accuracy: 0.8976190476190476\n",
      "F1 Score: 0.893868671679198\n",
      "AUC Score: 0.9150999243649027\n",
      "\n",
      "\n",
      "[0]\tvalidation_0-auc:0.781434\tvalidation_1-auc:0.776499\n",
      "Multiple eval metrics have been passed: 'validation_1-auc' will be used for early stopping.\n",
      "\n",
      "Will train until validation_1-auc hasn't improved in 200 rounds.\n",
      "[200]\tvalidation_0-auc:0.924806\tvalidation_1-auc:0.899445\n",
      "[400]\tvalidation_0-auc:0.949978\tvalidation_1-auc:0.910708\n",
      "[600]\tvalidation_0-auc:0.965656\tvalidation_1-auc:0.920306\n",
      "[800]\tvalidation_0-auc:0.973942\tvalidation_1-auc:0.924434\n",
      "[999]\tvalidation_0-auc:0.981354\tvalidation_1-auc:0.928907\n",
      "Fold: 5\n",
      "Accuracy: 0.9085714285714286\n",
      "F1 Score: 0.9045925823183603\n",
      "AUC Score: 0.9290313355339748\n",
      "\n",
      "\n"
     ]
    }
   ],
   "source": [
    "from xgboost import XGBClassifier\n",
    "\n",
    "err_xgb_ac = []\n",
    "err_xgb_f1 = []\n",
    "err_xgb_auc = []\n",
    "\n",
    "y_pred_tot_xgb = []\n",
    "y_pred_tot_xgb_prob = []\n",
    "\n",
    "\n",
    "fold = KFold(n_splits=5, shuffle=True, random_state=42)\n",
    "f = 0\n",
    "for train_index, test_index in fold.split(X):\n",
    "    X_train, X_test = X.loc[train_index], X.loc[test_index]\n",
    "    y_train, y_test = y[train_index], y[test_index]\n",
    "    \n",
    "    m=XGBClassifier(n_estimators=1000,random_state=1994,eval_metric='auc',learning_rate=0.1)\n",
    "    m.fit(X_train,y_train,eval_set=[(X_train,y_train),(X_test, y_test)], early_stopping_rounds=200,verbose=200)\n",
    "    \n",
    "    y_pred = m.predict(X_test)\n",
    "    y_pred_prob = m.predict_proba(X_test)[:,1]\n",
    "    \n",
    "    test_pred = m.predict(test_X)\n",
    "    test_pred_proba = m.predict_proba(test_X)[:,1]\n",
    "    \n",
    "    err_ac = accuracy_score(y_test, y_pred)\n",
    "    err_f1 = f1_score(y_test, y_pred, average='weighted')\n",
    "    err_auc = roc_auc_score(y_test, y_pred_prob)\n",
    "    \n",
    "    f += 1\n",
    "    print(\"Fold:\", f)\n",
    "    print(\"Accuracy:\", err_ac)\n",
    "    print('F1 Score:', err_f1)\n",
    "    print(\"AUC Score:\", err_auc)\n",
    "    print('\\n')\n",
    "    \n",
    "    err_xgb_ac.append(err_ac)\n",
    "    err_xgb_f1.append(err_f1)\n",
    "    err_xgb_auc.append(err_auc)\n",
    "    \n",
    "    y_pred_tot_xgb.append(test_pred)\n",
    "    y_pred_tot_xgb_prob.append(test_pred_proba)\n",
    "    "
   ]
  },
  {
   "cell_type": "code",
   "execution_count": 82,
   "metadata": {},
   "outputs": [
    {
     "name": "stdout",
     "output_type": "stream",
     "text": [
      "0.9032380952380953\n",
      "0.899361831855311\n",
      "0.9191131377487451\n"
     ]
    }
   ],
   "source": [
    "print(np.mean(err_xgb_ac))\n",
    "print(np.mean(err_xgb_f1))\n",
    "print(np.mean(err_xgb_auc))"
   ]
  },
  {
   "cell_type": "code",
   "execution_count": 83,
   "metadata": {},
   "outputs": [
    {
     "data": {
      "text/plain": [
       "female    3704\n",
       "male       796\n",
       "Name: gender, dtype: int64"
      ]
     },
     "execution_count": 83,
     "metadata": {},
     "output_type": "execute_result"
    }
   ],
   "source": [
    "sample['gender'] = (np.mean(y_pred_tot_xgb, 0).round().astype(int))\n",
    "sample['gender'] = sample['gender'].replace([0, 1], ['female', 'male'])\n",
    "sample.to_csv(path+'Final_Sub.csv', index=False)\n",
    "sample['gender'].value_counts()"
   ]
  },
  {
   "cell_type": "code",
   "execution_count": null,
   "metadata": {},
   "outputs": [],
   "source": []
  },
  {
   "cell_type": "code",
   "execution_count": 7,
   "metadata": {},
   "outputs": [],
   "source": []
  }
 ],
 "metadata": {
  "kernelspec": {
   "display_name": "Tensorflow-GPU",
   "language": "python",
   "name": "tf"
  },
  "language_info": {
   "codemirror_mode": {
    "name": "ipython",
    "version": 3
   },
   "file_extension": ".py",
   "mimetype": "text/x-python",
   "name": "python",
   "nbconvert_exporter": "python",
   "pygments_lexer": "ipython3",
   "version": "3.7.6"
  }
 },
 "nbformat": 4,
 "nbformat_minor": 4
}
